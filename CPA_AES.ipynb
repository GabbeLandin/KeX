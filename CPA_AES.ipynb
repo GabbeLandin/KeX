{
 "cells": [
  {
   "cell_type": "code",
   "execution_count": null,
   "metadata": {},
   "outputs": [],
   "source": [
    "import sys\n",
    "import chipwhisperer as cw\n",
    "from chipwhisperer.capture.targets.CW305 import CW305\n",
    "import time\n",
    "import numpy as np\n",
    "from Crypto.Cipher import AES\n",
    "import time\n",
    "import matplotlib.pyplot as plt\n",
    "import pickle\n",
    "\n"
   ]
  },
  {
   "cell_type": "code",
   "execution_count": null,
   "metadata": {},
   "outputs": [],
   "source": [
    "proj = cw.open_project(\"projects/Default\")\n"
   ]
  },
  {
   "cell_type": "code",
   "execution_count": null,
   "metadata": {},
   "outputs": [],
   "source": [
    "proj = cw.open_project(\"projects/clx2_102708_118795_112045_51354_36250\")\n"
   ]
  },
  {
   "cell_type": "code",
   "execution_count": null,
   "metadata": {},
   "outputs": [],
   "source": [
    "#project_file = \"projects/single_clock_no_random.cwp\"\n",
    "#proj = cw.create_project(project_file, overwrite=True)\n",
    "proj = cw.import_project(\"projects/clx2_105529_fr_47717_114323_124716_137188.zip\", overwrite=True)\n",
    "proj.save()\n",
    "x=[218,56,43, 161, 159, 221, 35, 30, 208, 37, 232, 130, 117, 38, 247, 91]\n",
    "arr = bytearray(x)\n",
    "key=arr"
   ]
  },
  {
   "cell_type": "code",
   "execution_count": null,
   "metadata": {},
   "outputs": [],
   "source": [
    "traces = []\n",
    "textin = []\n",
    "textout = []\n",
    "for (trace, pt, ct) in zip(proj.traces, proj.textins, proj.textouts):\n",
    "    traces.append(trace.wave)\n",
    "    textin.append(pt)\n",
    "    textout.append(ct)\n",
    "traces = np.array(traces)\n",
    "textin = np.array(textin)\n",
    "textout = np.array(textout)"
   ]
  },
  {
   "cell_type": "code",
   "execution_count": null,
   "metadata": {},
   "outputs": [],
   "source": [
    "print(traces.shape, textin.shape, textout.shape)"
   ]
  },
  {
   "cell_type": "code",
   "execution_count": null,
   "metadata": {},
   "outputs": [],
   "source": [
    "max_value = 0.35\n",
    "\n",
    "mask = np.any(traces > max_value, axis=1)\n",
    "traces = traces[~mask]\n",
    "textin = textin[~mask]\n",
    "textout = textout[~mask]\n",
    "\n",
    "traces = np.array(traces)\n",
    "textin = np.array(textin)\n",
    "textout = np.array(textout)\n",
    "\n",
    "#plt.plot(traces.T)\n",
    "#plt.show()"
   ]
  },
  {
   "cell_type": "code",
   "execution_count": null,
   "metadata": {},
   "outputs": [],
   "source": [
    "print(traces.shape, textin.shape, textout.shape)"
   ]
  },
  {
   "cell_type": "code",
   "execution_count": null,
   "metadata": {
    "scrolled": true
   },
   "outputs": [],
   "source": [
    "plt.plot(traces[:10000, :].T)\n",
    "plt.show()"
   ]
  },
  {
   "cell_type": "code",
   "execution_count": null,
   "metadata": {},
   "outputs": [],
   "source": [
    "import numpy as np\n",
    "from tqdm import tnrange, trange\n",
    "\n",
    "def synchronize_peaks(traces, threshold):\n",
    "    \n",
    "    num_traces = len(traces)\n",
    "    num_samples = traces.shape[1]\n",
    "    num_peaks = np.zeros(num_traces, dtype=int)\n",
    "    peak_indices = np.zeros((num_traces, num_samples), dtype=bool)\n",
    "    mask = np.full(num_traces, True)\n",
    "    #mask[0] = False\n",
    "    \n",
    "    # Find peak indices for each trace\n",
    "    for i in range(num_traces):\n",
    "        temp = np.where((np.abs(traces[i]) > threshold))[0]\n",
    "\n",
    "        prev = 0\n",
    "        if len(temp) > 0:\n",
    "            filtered_temp = [temp[0]]\n",
    "            j = 0\n",
    "            peak = []\n",
    "            while j < len(temp) - 1:\n",
    "                if temp[j] - prev >= 20:  # Check if the peak is at least 10 indices away from the previous peak\n",
    "                    peak = [temp[j]]\n",
    "                    prev = temp[j]\n",
    "                    j += 1\n",
    "                    while (temp[j] - prev < 10):\n",
    "                        peak.append(temp[j])\n",
    "                        if j < len(temp) - 1:\n",
    "                            prev = temp[j]\n",
    "                            j += 1\n",
    "                        else:\n",
    "                            break\n",
    "                            \n",
    "                    max_value = 100\n",
    "                    max_index = None\n",
    "                    for index in peak:\n",
    "                        if traces[i][index] < max_value:\n",
    "                            max_value = traces[i][index]\n",
    "                            max_index = index\n",
    "                    prev = max_index\n",
    "                    filtered_temp.append(max_index)\n",
    "                j += 1\n",
    "                \n",
    "            peak_indices[i, filtered_temp] = True\n",
    "            num_peaks[i] = len(filtered_temp)\n",
    "\n",
    "    synchronized_output = []\n",
    "    # Find peak indices for the first trace\n",
    "    first_trace_peaks = np.where(peak_indices[0])[0]\n",
    "\n",
    "    #if len(first_trace_peaks) != 12:\n",
    "        #return synchronized_output  # Return empty synchronized output if the first trace has fewer than 12 peaks\n",
    "\n",
    "    # Synchronize peaks between traces\n",
    "    for i in trange(0, num_traces):\n",
    "\n",
    "        trace_peaks = []\n",
    "        peak_index = np.where(peak_indices[i])[0]\n",
    "        synchronized_peak = []\n",
    "        #print(peak_index)\n",
    "        if peak_index.shape[0] != 12:\n",
    "                continue  # Break if the current trace has fewer than 12 peaks\n",
    "        for j in range(12):\n",
    "\n",
    "            temptrace = traces[i]\n",
    "            \n",
    "            #peak_diff = first_trace_peaks[j] - peak_index[j]\n",
    "            #peak_diff = peak_diff%50\n",
    "            #print(num_peaks[i])\n",
    "            if peak_index[j] > traces.shape[1] - 40:\n",
    "                synchronized_peak = []\n",
    "                #mask[i] = False\n",
    "                break\n",
    "            if peak_index[j] < 10:\n",
    "                rolled = np.roll(temptrace[peak_index[j] + 0:peak_index[j]+20], -10)\n",
    "                synchronized_peak.append(rolled)\n",
    "\n",
    "            else:\n",
    "                rolled = np.roll(temptrace[peak_index[j] - 10:peak_index[j]+10], 0)\n",
    "                synchronized_peak.append(rolled)\n",
    "            \n",
    "                #print(rolled, peak_index[j])\n",
    "            #plt.plot(np.array(synchronized_peak).T)\n",
    "            #plt.show()\n",
    "        if len(synchronized_peak) > 1:\n",
    "            synchronized_output.append(np.array(synchronized_peak).flatten())\n",
    "            mask[i] = False\n",
    "            #print(synchronized_peak)\n",
    "            \n",
    "    return (np.array(synchronized_output), mask)\n"
   ]
  },
  {
   "cell_type": "code",
   "execution_count": null,
   "metadata": {},
   "outputs": [],
   "source": [
    "(peaks, mask) = synchronize_peaks(traces, 0.15)\n",
    "#mask = np.insert(mask,0, True)\n",
    "print(peaks.shape)\n",
    "#print(traces.shape)"
   ]
  },
  {
   "cell_type": "code",
   "execution_count": null,
   "metadata": {},
   "outputs": [],
   "source": [
    "peaktextin = textin[~mask]\n",
    "peaktextout = textout[~mask]\n",
    "print(peaktextin.shape, peaktextout.shape, peaks.shape)"
   ]
  },
  {
   "cell_type": "code",
   "execution_count": null,
   "metadata": {
    "scrolled": true
   },
   "outputs": [],
   "source": [
    "plt.plot(peaks[:1000].T)\n",
    "plt.show()\n",
    "#traces = peaks"
   ]
  },
  {
   "cell_type": "code",
   "execution_count": null,
   "metadata": {},
   "outputs": [],
   "source": [
    "trimpeaks = peaks#[0:7000]\n",
    "trimtextin = peaktextin#[0:7000]\n",
    "trimtextout = peaktextout#[0:7000]"
   ]
  },
  {
   "cell_type": "code",
   "execution_count": null,
   "metadata": {},
   "outputs": [],
   "source": [
    "peaks = peaks[:,:2200]"
   ]
  },
  {
   "cell_type": "code",
   "execution_count": null,
   "metadata": {},
   "outputs": [],
   "source": [
    "proj = cw.create_project(\"projects/attack.cwp\", overwrite=True)\n",
    "\n",
    "for i in range(trimpeaks.shape[0]):\n",
    "    trace = cw.Trace(trimpeaks[i], trimtextin[i], trimtextout[i], key)\n",
    "    proj.traces.append(trace)\n",
    "    #print(leak[i])\n",
    "proj.save()"
   ]
  },
  {
   "cell_type": "code",
   "execution_count": null,
   "metadata": {},
   "outputs": [],
   "source": [
    "import chipwhisperer as cw\n",
    "import chipwhisperer.analyzer as cwa\n",
    "project_file = \"projects/attack\"\n",
    "project = cw.open_project(project_file)\n",
    "attack = cwa.cpa(project, cwa.leakage_models.last_round_state_diff)\n",
    "cb = cwa.get_jupyter_callback(attack)"
   ]
  },
  {
   "cell_type": "code",
   "execution_count": null,
   "metadata": {
    "scrolled": true
   },
   "outputs": [],
   "source": [
    "attack_results = attack.run(cb)"
   ]
  },
  {
   "cell_type": "code",
   "execution_count": null,
   "metadata": {},
   "outputs": [],
   "source": [
    "from chipwhisperer.analyzer.attacks.models.aes.key_schedule import key_schedule_rounds\n",
    "recv_lastroundkey = [kguess[0][0] for kguess in attack_results.find_maximums()]\n",
    "recv_key = key_schedule_rounds(recv_lastroundkey, 10, 0)\n",
    "for subkey in recv_key:\n",
    "    print(hex(subkey))"
   ]
  },
  {
   "cell_type": "code",
   "execution_count": null,
   "metadata": {
    "scrolled": false
   },
   "outputs": [],
   "source": [
    "key = list(key)\n",
    "assert (key == recv_key), \"Failed to recover encryption key\\nGot:      {}\\nExpected: {}\".format(recv_key, key)"
   ]
  },
  {
   "cell_type": "code",
   "execution_count": null,
   "metadata": {},
   "outputs": [],
   "source": []
  },
  {
   "cell_type": "code",
   "execution_count": null,
   "metadata": {
    "scrolled": false
   },
   "outputs": [],
   "source": [
    "from chipwhisperer.analyzer.attacks.models.aes.key_schedule import key_schedule_rounds\n",
    "import chipwhisperer as cw\n",
    "import chipwhisperer.analyzer as cwa\n",
    "import math\n",
    "\n",
    "project_file = \"projects/attack\"\n",
    "tracerange = 4500\n",
    "step = 3000\n",
    "modifier = 0\n",
    "i = 0\n",
    "modifiedRange = tracerange\n",
    "\n",
    "while (i*step + modifiedRange) < peaks.shape[0]:\n",
    "    \n",
    "    proj = cw.create_project(\"projects/attack.cwp\", overwrite=True)\n",
    "    modifiedRange = tracerange - modifier\n",
    "    \n",
    "    currpeaks = peaks[i*step :i*step + modifiedRange]\n",
    "    currtextin = peaktextin[i*step:i*step + modifiedRange]\n",
    "    currtextout = peaktextout[i*step:i*step + modifiedRange]\n",
    "\n",
    "    for j in range(currpeaks.shape[0]):\n",
    "        trace = cw.Trace(currpeaks[j], currtextin[j], currtextout[j], key)\n",
    "        proj.traces.append(trace)\n",
    "    proj.save()\n",
    "\n",
    "    #project = cw.open_project(project_file)\n",
    "    attack = cwa.cpa(proj, cwa.leakage_models.last_round_state_diff)\n",
    "    cb = cwa.get_jupyter_callback(attack)\n",
    "    \n",
    "    attack_results = attack.run()\n",
    "    \n",
    "    recv_lastroundkey = [kguess[0][0] for kguess in attack_results.find_maximums()]\n",
    "    recv_key = key_schedule_rounds(recv_lastroundkey, 10, 0)\n",
    "\n",
    "    key = list(key)\n",
    "    \n",
    "    if key == recv_key:\n",
    "        print(recv_key, i, modifiedRange, len(currpeaks))\n",
    "        modifier += 250\n",
    "        i = 0\n",
    "        continue\n",
    "    print(i, modifiedRange, len(currpeaks))\n",
    "    i += 1"
   ]
  },
  {
   "cell_type": "code",
   "execution_count": null,
   "metadata": {},
   "outputs": [],
   "source": [
    "import math\n",
    "out = [[]]\n",
    "for j in range(traces.shape[0]):\n",
    "    i = 0\n",
    "    out.append([])\n",
    "    while i < traces.shape[1]:\n",
    "        val = traces[j][i]\n",
    "        if val < -0.15:\n",
    "            tempval = traces[j][i - 1]\n",
    "            while(tempval >= val):\n",
    "                i += 1\n",
    "                if i >= traces.shape[1]:\n",
    "                    break\n",
    "                tempval = traces[j][i - 1]\n",
    "                val = traces[j][i]\n",
    "            #print(i)\n",
    "            out[j].append(i)\n",
    "            if len(out[j]) >= 12:\n",
    "                break\n",
    "            while val < 0:\n",
    "                i += 1\n",
    "                if i >= traces.shape[1]:\n",
    "                    break\n",
    "                val = traces[j][i]\n",
    "        i += 1\n",
    "\n",
    "d1 = [out[i][1:-1] for i in range(len(out))]\n",
    "\n",
    "final = []\n",
    "for i in range(len(d1)):\n",
    "    for j in range(len(d1[i]) - 1):\n",
    "        final.append(1/(d1[i][j+1] - d1[i][j]))\n",
    "        \n",
    "max_value = 0.05\n",
    "\n",
    "filtered_list = [x*1000*(1/2*math.pi)*1.2 for x in final] # if x <= max_value]\n",
    "\n",
    "plt.hist(filtered_list, bins=500)\n",
    "plt.show()"
   ]
  },
  {
   "cell_type": "code",
   "execution_count": null,
   "metadata": {},
   "outputs": [],
   "source": [
    "import math\n",
    "out = [[]]\n",
    "for i in range(traces.shape[0]):\n",
    "    temp = np.where((np.abs(traces[i]) > 0.15))[0]\n",
    "\n",
    "    prev = 0\n",
    "    if len(temp) > 0:\n",
    "        filtered_temp = [temp[0]]\n",
    "        j = 0\n",
    "        peak = []\n",
    "        while j < len(temp) - 1:\n",
    "            if temp[j] - prev >= 20:  # Check if the peak is at least 10 indices away from the previous peak\n",
    "                peak = [temp[j]]\n",
    "                prev = temp[j]\n",
    "                j += 1\n",
    "                while (temp[j] - prev < 10):\n",
    "                    peak.append(temp[j])\n",
    "                    if j < len(temp) - 1:\n",
    "                        prev = temp[j]\n",
    "                        j += 1\n",
    "                    else:\n",
    "                        break\n",
    "\n",
    "                max_value = 100\n",
    "                max_index = None\n",
    "                for index in peak:\n",
    "                    if traces[i][index] < max_value:\n",
    "                        max_value = traces[i][index]\n",
    "                        max_index = index\n",
    "                prev = max_index\n",
    "                filtered_temp.append(max_index)\n",
    "            j += 1\n",
    "        out.append(filtered_temp)\n",
    "                \n",
    "\n",
    "d1 = [out[i][1:-1] for i in range(len(out))]\n",
    "\n",
    "final = []\n",
    "for i in range(len(d1)):\n",
    "    for j in range(len(d1[i]) - 1):\n",
    "        final.append(1/(d1[i][j+1] - d1[i][j]))\n",
    "        \n",
    "max_value = 0.05\n",
    "\n",
    "filtered_list = [x*1000*(1/2*math.pi) for x in final] # if x <= max_value]\n",
    "\n",
    "plt.hist(filtered_list, bins=500)\n",
    "plt.show()"
   ]
  },
  {
   "cell_type": "code",
   "execution_count": null,
   "metadata": {},
   "outputs": [],
   "source": [
    "max_value = 0.015\n",
    "filtered_list = [x*1000*(1/2*math.pi) for x in final ]#if x <= max_value]\n",
    "plt.hist(filtered_list, bins=200, range=(0,70))\n",
    "plt.show()"
   ]
  },
  {
   "cell_type": "code",
   "execution_count": null,
   "metadata": {},
   "outputs": [],
   "source": []
  }
 ],
 "metadata": {
  "kernelspec": {
   "display_name": "Python 3",
   "language": "python",
   "name": "python3"
  },
  "language_info": {
   "codemirror_mode": {
    "name": "ipython",
    "version": 3
   },
   "file_extension": ".py",
   "mimetype": "text/x-python",
   "name": "python",
   "nbconvert_exporter": "python",
   "pygments_lexer": "ipython3",
   "version": "3.7.7"
  },
  "toc": {
   "base_numbering": 1,
   "nav_menu": {},
   "number_sections": true,
   "sideBar": true,
   "skip_h1_title": false,
   "title_cell": "Table of Contents",
   "title_sidebar": "Contents",
   "toc_cell": false,
   "toc_position": {},
   "toc_section_display": true,
   "toc_window_display": false
  }
 },
 "nbformat": 4,
 "nbformat_minor": 4
}
