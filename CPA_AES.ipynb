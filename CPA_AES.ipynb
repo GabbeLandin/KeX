{
 "cells": [
  {
   "cell_type": "markdown",
   "metadata": {},
   "source": [
    "# Breaking Hardware AES on CW305 FPGA"
   ]
  },
  {
   "cell_type": "markdown",
   "metadata": {},
   "source": [
    "This tutorial is a continuation from [Tutorial CW305-1 Building a Project](http://wiki.newae.com/Tutorial_CW305-1_Building_a_Project). Here, we'll use our hardware setup to find a fixed secret key that the Artix FPGA is using for AES encryption. This tutorial relies on previous knowledge from [Using_CW-Analyzer_for_CPA_Attack](PA_CPA_1-Using_CW-Analyzer_for_CPA_Attack.ipynb), so make sure you understand how that attack works."
   ]
  },
  {
   "cell_type": "code",
   "execution_count": null,
   "metadata": {},
   "outputs": [],
   "source": [
    "import sys\n",
    "import chipwhisperer as cw\n",
    "from chipwhisperer.capture.targets.CW305 import CW305\n",
    "import time\n",
    "import numpy as np\n",
    "from Crypto.Cipher import AES\n",
    "import time\n",
    "import matplotlib.pyplot as plt\n",
    "import pickle\n",
    "\n"
   ]
  },
  {
   "cell_type": "code",
   "execution_count": null,
   "metadata": {},
   "outputs": [],
   "source": [
    "scope.dis()\n",
    "target.dis()"
   ]
  },
  {
   "cell_type": "code",
   "execution_count": null,
   "metadata": {},
   "outputs": [],
   "source": [
    "N = 1000\n",
    "start = time.time()\n",
    "ssx = 40\n",
    "freq = 10E5"
   ]
  },
  {
   "cell_type": "code",
   "execution_count": null,
   "metadata": {},
   "outputs": [],
   "source": [
    "scope = cw.scope()\n",
    "scope.gain.db = 34\n",
    "#scope.gain.db = 25\n",
    "#Testa olika gain\n",
    "scope.adc.samples = 70*ssx\n",
    "scope.adc.offset = 0\n",
    "scope.adc.basic_mode = \"rising_edge\"\n",
    "scope.trigger.triggers = \"tio4\"\n",
    "scope.io.tio1 = \"serial_rx\"\n",
    "scope.io.tio2 = \"serial_tx\"\n",
    "scope.io.hs2 = \"clkgen\"\n",
    "scope.clock.clkgen_freq = freq * ssx #this sets sampling frequency.\n",
    "scope.clock.adc_src = \"clkgen_x4\""
   ]
  },
  {
   "cell_type": "code",
   "execution_count": null,
   "metadata": {},
   "outputs": [],
   "source": [
    "target = cw.target(scope,\n",
    "        cw.targets.CW305, bsfile=bsfile, force=True)"
   ]
  },
  {
   "cell_type": "code",
   "execution_count": null,
   "metadata": {},
   "outputs": [],
   "source": [
    "bsfile = r'cw305_top.bit'"
   ]
  },
  {
   "cell_type": "code",
   "execution_count": null,
   "metadata": {},
   "outputs": [],
   "source": [
    "bsfile = r'clx2_10764_fr_95917_90317_62777_40517.bit'"
   ]
  },
  {
   "cell_type": "code",
   "execution_count": null,
   "metadata": {},
   "outputs": [],
   "source": [
    "target.vccint_set(1.0)\n",
    "target.pll.pll_enable_set(True)\n",
    "target.pll.pll_outenable_set(False, 0)\n",
    "target.pll.pll_outenable_set(True, 1)\n",
    "target.pll.pll_outenable_set(False, 2)\n",
    "target.pll.pll_outfreq_set(10E6, 1) #this sets frequency of outfreq. Hopefully this is used by the FPGA during AES.\n",
    "target.clkusbautooff = True\n",
    "target.clksleeptime = 1"
   ]
  },
  {
   "cell_type": "markdown",
   "metadata": {},
   "source": [
    "Next we'll connect to the CW305 board. Here we'll need to specify our bitstream file to load as well as the usual scope and target_type arguments.\n",
    "\n",
    "Pick the correct bitfile for your CW305 board (e.g. either '35t' or '100t'). By setting `force=False`, the bitfile will only be programmed if the FPGA is uninitialized (e.g. after powering up). Change to `force=True` to always program the FPGA (e.g. if you have generated a new bitfile)."
   ]
  },
  {
   "cell_type": "code",
   "execution_count": null,
   "metadata": {},
   "outputs": [],
   "source": [
    "project_file = \"projects/clx2_10764_fr_95917_90317_62777_40517.cwp\"\n",
    "project = cw.create_project(project_file, overwrite=True)"
   ]
  },
  {
   "cell_type": "markdown",
   "metadata": {},
   "source": [
    "Next we set all the PLLs. We enable CW305's PLL1; this clock will feed both the target and the CW ADC. As explained [here](http://wiki.newae.com/Tutorial_CW305-1_Building_a_Project#Capture_Setup), **make sure the DIP switches on the CW305 board are set as follows**:\n",
    "- J16 = 0\n",
    "- K16 = 1"
   ]
  },
  {
   "cell_type": "code",
   "execution_count": null,
   "metadata": {},
   "outputs": [],
   "source": [
    "# ensure ADC is locked:\n",
    "scope.clock.reset_adc()\n",
    "assert (scope.clock.adc_locked), \"ADC failed to lock\""
   ]
  },
  {
   "cell_type": "markdown",
   "metadata": {},
   "source": [
    "Occasionally the ADC will fail to lock on the first try; when that happens, the above assertion will fail (and on the CW-Lite, the red LED will be on). Simply re-running the above cell again should fix things."
   ]
  },
  {
   "cell_type": "markdown",
   "metadata": {},
   "source": [
    "## Trace Capture\n",
    "Below is the capture loop. The main body of the loop loads some new plaintext, arms the scope, sends the key and plaintext, then finally records and appends our new trace to the `traces[]` list.\n",
    "\n",
    "Because we're capturing 5000 traces, this takes a bit longer than the attacks against software AES implementations.\n",
    "\n",
    "Note that the encryption result is read from the target and compared to the expected results, as a sanity check."
   ]
  },
  {
   "cell_type": "code",
   "execution_count": null,
   "metadata": {
    "scrolled": true
   },
   "outputs": [],
   "source": [
    "from tqdm import tnrange, trange\n",
    "import numpy as np\n",
    "import time\n",
    "from Crypto.Cipher import AES\n",
    "\n",
    "ktp = cw.ktp.Basic()\n",
    "\n",
    "traces = []\n",
    "textin = []\n",
    "keys = []\n",
    "textout = []\n",
    "\n",
    "N = 30000  # Number of traces\n",
    "\n",
    "# initialize cipher to verify DUT result:\n",
    "key, text = ktp.next()\n",
    "x=[218,56,43, 161, 159, 221, 35, 30, 208, 37, 232, 130, 117, 38, 247, 91]\n",
    "arr = bytearray(x)\n",
    "key=arr\n",
    "\n",
    "cipher = AES.new(bytes(key), AES.MODE_ECB)\n",
    "#textproj = cw.open_project(\"projects/Default\")\n",
    "textin = np.load(\"TextIn.npy\")\n",
    "\n",
    "for i in trange(N, desc='Capturing traces'):\n",
    "    # run aux stuff that should come before trace here\n",
    "\n",
    "    #garbage, text = ktp.next()  # manual creation of a key, text pair can be substituted here\n",
    "    \n",
    "    \n",
    "    #textin.append(text)\n",
    "    ret = cw.capture_trace(scope, target, bytearray(textin[i]), key)\n",
    "    #ret = cw.capture_trace(scope, target, text, key)\n",
    "    if not ret:\n",
    "        print(\"Failed capture\")\n",
    "        continue\n",
    "\n",
    "    if list(ret.textout) != list(cipher.encrypt(bytearray(textin[i]))):\n",
    "    #if list(ret.textout) != list(cipher.encrypt(text)):\n",
    "        print(\"Incorrect encryption result!\\nGot {}\\nExp {}\\nIndex of error was {}\".format(ret.textout, list(textin[i]), i))\n",
    "        continue\n",
    "    \n",
    "    keys.append(key)\n",
    "    traces.append(ret.wave)\n",
    "    textout.append(ret.textout)\n",
    "    \n",
    "    project.traces.append(ret)\n",
    "\n",
    "project.save()\n",
    "    "
   ]
  },
  {
   "cell_type": "code",
   "execution_count": null,
   "metadata": {},
   "outputs": [],
   "source": [
    "project.export(\"projects/clx2_106971_fr_91942_92708_99330_43457.zip\")"
   ]
  },
  {
   "cell_type": "code",
   "execution_count": null,
   "metadata": {},
   "outputs": [],
   "source": [
    "plt.plot(np.array(traces[:1000]).T)\n",
    "plt.show()"
   ]
  },
  {
   "cell_type": "code",
   "execution_count": null,
   "metadata": {},
   "outputs": [],
   "source": [
    "ntraces = np.array(traces)\n",
    "ntextin = np.array(textin)\n",
    "ntextout = np.array(textout)\n",
    "\n",
    "print(ntraces.shape, ntextin.shape, ntextout.shape)"
   ]
  },
  {
   "cell_type": "code",
   "execution_count": null,
   "metadata": {},
   "outputs": [],
   "source": [
    "project.save()"
   ]
  },
  {
   "cell_type": "code",
   "execution_count": null,
   "metadata": {},
   "outputs": [],
   "source": [
    "max_value = 0.45\n",
    "\n",
    "traces = np.array(traces)\n",
    "textin = np.array(textin)\n",
    "textout = np.array(textout)\n",
    "\n",
    "mask = np.any(traces > max_value, axis=1)\n",
    "traces = traces[~mask]\n",
    "#textin = textin[~mask]\n",
    "#textout = textout[~mask]\n",
    "\n",
    "traces = np.array(traces)\n",
    "textin = np.array(textin)\n",
    "textout = np.array(textout)\n",
    "\n",
    "#plt.xlim([0, 2500])\n",
    "#plt.plot(traces.T)\n",
    "#plt.show()"
   ]
  },
  {
   "cell_type": "code",
   "execution_count": null,
   "metadata": {},
   "outputs": [],
   "source": [
    "plt.plot(traces.T)\n",
    "plt.show()"
   ]
  }
 ],
 "metadata": {
  "kernelspec": {
   "display_name": "Python 3",
   "language": "python",
   "name": "python3"
  },
  "language_info": {
   "codemirror_mode": {
    "name": "ipython",
    "version": 3
   },
   "file_extension": ".py",
   "mimetype": "text/x-python",
   "name": "python",
   "nbconvert_exporter": "python",
   "pygments_lexer": "ipython3",
   "version": "3.7.7"
  },
  "toc": {
   "base_numbering": 1,
   "nav_menu": {},
   "number_sections": true,
   "sideBar": true,
   "skip_h1_title": false,
   "title_cell": "Table of Contents",
   "title_sidebar": "Contents",
   "toc_cell": false,
   "toc_position": {},
   "toc_section_display": true,
   "toc_window_display": false
  }
 },
 "nbformat": 4,
 "nbformat_minor": 4
}
